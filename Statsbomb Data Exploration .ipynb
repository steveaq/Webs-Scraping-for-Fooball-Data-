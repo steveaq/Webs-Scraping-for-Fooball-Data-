{
 "cells": [
  {
   "cell_type": "markdown",
   "metadata": {},
   "source": [
    "## Intro to using StatsBomb data for match analysis"
   ]
  },
  {
   "cell_type": "markdown",
   "metadata": {},
   "source": [
    "### Import the event data "
   ]
  },
  {
   "cell_type": "code",
   "execution_count": 1,
   "metadata": {},
   "outputs": [
    {
     "name": "stdout",
     "output_type": "stream",
     "text": [
      "Requirement already satisfied: statsbombpy in /Library/Frameworks/Python.framework/Versions/3.7/lib/python3.7/site-packages (1.3.0)\n",
      "Requirement already satisfied: requests-cache in /Library/Frameworks/Python.framework/Versions/3.7/lib/python3.7/site-packages (from statsbombpy) (0.9.0)\n",
      "Requirement already satisfied: requests in /Library/Frameworks/Python.framework/Versions/3.7/lib/python3.7/site-packages (from statsbombpy) (2.27.1)\n",
      "Requirement already satisfied: pandas in /Library/Frameworks/Python.framework/Versions/3.7/lib/python3.7/site-packages (from statsbombpy) (1.3.5)\n",
      "Requirement already satisfied: joblib in /Library/Frameworks/Python.framework/Versions/3.7/lib/python3.7/site-packages (from statsbombpy) (1.1.0)\n",
      "Requirement already satisfied: inflect in /Library/Frameworks/Python.framework/Versions/3.7/lib/python3.7/site-packages (from statsbombpy) (5.3.0)\n",
      "Requirement already satisfied: nose2 in /Library/Frameworks/Python.framework/Versions/3.7/lib/python3.7/site-packages (from statsbombpy) (0.10.0)\n",
      "Requirement already satisfied: appdirs<2.0.0,>=1.4.4 in /Library/Frameworks/Python.framework/Versions/3.7/lib/python3.7/site-packages (from requests-cache->statsbombpy) (1.4.4)\n",
      "Requirement already satisfied: urllib3<2.0.0,>=1.25.5 in /Library/Frameworks/Python.framework/Versions/3.7/lib/python3.7/site-packages (from requests-cache->statsbombpy) (1.26.7)\n",
      "Requirement already satisfied: url-normalize<2.0,>=1.4 in /Library/Frameworks/Python.framework/Versions/3.7/lib/python3.7/site-packages (from requests-cache->statsbombpy) (1.4.3)\n",
      "Requirement already satisfied: cattrs<2.0,>=1.8 in /Library/Frameworks/Python.framework/Versions/3.7/lib/python3.7/site-packages (from requests-cache->statsbombpy) (1.10.0)\n",
      "Requirement already satisfied: attrs<22.0,>=21.2 in /Library/Frameworks/Python.framework/Versions/3.7/lib/python3.7/site-packages (from requests-cache->statsbombpy) (21.4.0)\n",
      "Requirement already satisfied: idna<4,>=2.5; python_version >= \"3\" in /Library/Frameworks/Python.framework/Versions/3.7/lib/python3.7/site-packages (from requests->statsbombpy) (3.3)\n",
      "Requirement already satisfied: certifi>=2017.4.17 in /Library/Frameworks/Python.framework/Versions/3.7/lib/python3.7/site-packages (from requests->statsbombpy) (2021.10.8)\n",
      "Requirement already satisfied: charset-normalizer~=2.0.0; python_version >= \"3\" in /Library/Frameworks/Python.framework/Versions/3.7/lib/python3.7/site-packages (from requests->statsbombpy) (2.0.10)\n",
      "Requirement already satisfied: python-dateutil>=2.7.3 in /Library/Frameworks/Python.framework/Versions/3.7/lib/python3.7/site-packages (from pandas->statsbombpy) (2.8.2)\n",
      "Requirement already satisfied: pytz>=2017.3 in /Library/Frameworks/Python.framework/Versions/3.7/lib/python3.7/site-packages (from pandas->statsbombpy) (2021.3)\n",
      "Requirement already satisfied: numpy>=1.17.3; platform_machine != \"aarch64\" and platform_machine != \"arm64\" and python_version < \"3.10\" in /Library/Frameworks/Python.framework/Versions/3.7/lib/python3.7/site-packages (from pandas->statsbombpy) (1.21.5)\n",
      "Requirement already satisfied: six>=1.7 in /Library/Frameworks/Python.framework/Versions/3.7/lib/python3.7/site-packages (from nose2->statsbombpy) (1.16.0)\n",
      "Requirement already satisfied: coverage>=4.4.1 in /Library/Frameworks/Python.framework/Versions/3.7/lib/python3.7/site-packages (from nose2->statsbombpy) (6.2)\n",
      "Requirement already satisfied: typing_extensions; python_version >= \"3.7\" and python_version < \"3.8\" in /Library/Frameworks/Python.framework/Versions/3.7/lib/python3.7/site-packages (from cattrs<2.0,>=1.8->requests-cache->statsbombpy) (4.0.1)\n",
      "\u001b[33mYou are using pip version 18.1, however version 21.3.1 is available.\n",
      "You should consider upgrading via the 'pip install --upgrade pip' command.\u001b[0m\n"
     ]
    }
   ],
   "source": [
    "! pip3 install statsbombpy"
   ]
  },
  {
   "cell_type": "code",
   "execution_count": 2,
   "metadata": {},
   "outputs": [
    {
     "ename": "ModuleNotFoundError",
     "evalue": "No module named 'statsbomb'",
     "output_type": "error",
     "traceback": [
      "\u001b[0;31m---------------------------------------------------------------------------\u001b[0m",
      "\u001b[0;31mModuleNotFoundError\u001b[0m                       Traceback (most recent call last)",
      "\u001b[0;32m<ipython-input-2-77af8767a76b>\u001b[0m in \u001b[0;36m<module>\u001b[0;34m\u001b[0m\n\u001b[0;32m----> 1\u001b[0;31m \u001b[0;32mimport\u001b[0m \u001b[0mstatsbomb\u001b[0m \u001b[0;32mas\u001b[0m \u001b[0msb\u001b[0m\u001b[0;34m\u001b[0m\u001b[0;34m\u001b[0m\u001b[0m\n\u001b[0m\u001b[1;32m      2\u001b[0m \u001b[0;34m\u001b[0m\u001b[0m\n\u001b[1;32m      3\u001b[0m \u001b[0mcomps\u001b[0m \u001b[0;34m=\u001b[0m \u001b[0msb\u001b[0m\u001b[0;34m.\u001b[0m\u001b[0mCompetitions\u001b[0m\u001b[0;34m(\u001b[0m\u001b[0;34m)\u001b[0m\u001b[0;34m\u001b[0m\u001b[0;34m\u001b[0m\u001b[0m\n\u001b[1;32m      4\u001b[0m \u001b[0mprint\u001b[0m\u001b[0;34m(\u001b[0m\u001b[0mlen\u001b[0m\u001b[0;34m(\u001b[0m\u001b[0mcomps\u001b[0m\u001b[0;34m)\u001b[0m\u001b[0;34m)\u001b[0m  \u001b[0;31m# 3\u001b[0m\u001b[0;34m\u001b[0m\u001b[0;34m\u001b[0m\u001b[0m\n\u001b[1;32m      5\u001b[0m \u001b[0mjson_data\u001b[0m \u001b[0;34m=\u001b[0m \u001b[0mcomps\u001b[0m\u001b[0;34m.\u001b[0m\u001b[0mdata\u001b[0m  \u001b[0;31m# underlying json data\u001b[0m\u001b[0;34m\u001b[0m\u001b[0;34m\u001b[0m\u001b[0m\n",
      "\u001b[0;31mModuleNotFoundError\u001b[0m: No module named 'statsbomb'"
     ]
    }
   ],
   "source": [
    "import statsbomb as sb\n",
    "\n",
    "comps = sb.Competitions()\n",
    "print(len(comps))  # 3\n",
    "json_data = comps.data  # underlying json data\n",
    "\n",
    "df = comps.get_dataframe()\n",
    "print(df)"
   ]
  },
  {
   "cell_type": "code",
   "execution_count": null,
   "metadata": {},
   "outputs": [],
   "source": []
  },
  {
   "cell_type": "code",
   "execution_count": null,
   "metadata": {},
   "outputs": [],
   "source": []
  },
  {
   "cell_type": "code",
   "execution_count": 3,
   "metadata": {},
   "outputs": [
    {
     "ename": "NameError",
     "evalue": "name '__file__' is not defined",
     "output_type": "error",
     "traceback": [
      "\u001b[0;31m---------------------------------------------------------------------------\u001b[0m",
      "\u001b[0;31mNameError\u001b[0m                                 Traceback (most recent call last)",
      "\u001b[0;32m<ipython-input-3-a70afe9ff8b3>\u001b[0m in \u001b[0;36m<module>\u001b[0;34m\u001b[0m\n\u001b[1;32m      3\u001b[0m \u001b[0;32mfrom\u001b[0m \u001b[0msetuptools\u001b[0m \u001b[0;32mimport\u001b[0m \u001b[0msetup\u001b[0m\u001b[0;34m\u001b[0m\u001b[0;34m\u001b[0m\u001b[0m\n\u001b[1;32m      4\u001b[0m \u001b[0;34m\u001b[0m\u001b[0m\n\u001b[0;32m----> 5\u001b[0;31m \u001b[0;32mwith\u001b[0m \u001b[0mopen\u001b[0m\u001b[0;34m(\u001b[0m\u001b[0mos\u001b[0m\u001b[0;34m.\u001b[0m\u001b[0mpath\u001b[0m\u001b[0;34m.\u001b[0m\u001b[0mjoin\u001b[0m\u001b[0;34m(\u001b[0m\u001b[0mos\u001b[0m\u001b[0;34m.\u001b[0m\u001b[0mpath\u001b[0m\u001b[0;34m.\u001b[0m\u001b[0mabspath\u001b[0m\u001b[0;34m(\u001b[0m\u001b[0mos\u001b[0m\u001b[0;34m.\u001b[0m\u001b[0mpath\u001b[0m\u001b[0;34m.\u001b[0m\u001b[0mdirname\u001b[0m\u001b[0;34m(\u001b[0m\u001b[0m__file__\u001b[0m\u001b[0;34m)\u001b[0m\u001b[0;34m)\u001b[0m\u001b[0;34m,\u001b[0m \u001b[0;34m\"README.md\"\u001b[0m\u001b[0;34m)\u001b[0m\u001b[0;34m)\u001b[0m \u001b[0;32mas\u001b[0m \u001b[0mf\u001b[0m\u001b[0;34m:\u001b[0m\u001b[0;34m\u001b[0m\u001b[0;34m\u001b[0m\u001b[0m\n\u001b[0m\u001b[1;32m      6\u001b[0m     \u001b[0mREADME\u001b[0m \u001b[0;34m=\u001b[0m \u001b[0mf\u001b[0m\u001b[0;34m.\u001b[0m\u001b[0mread\u001b[0m\u001b[0;34m(\u001b[0m\u001b[0;34m)\u001b[0m\u001b[0;34m\u001b[0m\u001b[0;34m\u001b[0m\u001b[0m\n\u001b[1;32m      7\u001b[0m \u001b[0;34m\u001b[0m\u001b[0m\n",
      "\u001b[0;31mNameError\u001b[0m: name '__file__' is not defined"
     ]
    }
   ],
   "source": [
    "import os\n",
    "\n",
    "from setuptools import setup\n",
    "\n",
    "with open(os.path.join(os.path.abspath(os.path.dirname(__file__)), \"README.md\")) as f:\n",
    "    README = f.read()\n",
    "\n",
    "setup(\n",
    "    name=\"statsbombpy\",\n",
    "    version=\"1.3.0\",\n",
    "    description=\"easily stream StatsBomb data into Python\",\n",
    "    long_description=README,\n",
    "    long_description_content_type=\"text/markdown\",\n",
    "    url=\"https://github.com/statsbomb/statsbombpy\",\n",
    "    download_url=\"https://github.com/statsbomb/statsbombpy/archive/v1.0.tar.gz\",\n",
    "    author=\"StatsBomb\",\n",
    "    author_email=\"support@statsbombservices.com\",\n",
    "    packages=[\"statsbombpy\"],\n",
    "    install_requires=[\n",
    "        \"joblib\",\n",
    "        \"inflect\",\n",
    "        \"nose2\",\n",
    "        \"pandas\",\n",
    "        \"requests\",\n",
    "        \"requests-cache\",\n",
    "    ],\n",
    ")"
   ]
  },
  {
   "cell_type": "code",
   "execution_count": null,
   "metadata": {},
   "outputs": [
    {
     "name": "stdout",
     "output_type": "stream",
     "text": [
      "Collecting statsbombpy\n",
      "  Downloading https://files.pythonhosted.org/packages/27/c0/dad16b0c72ddc3ddbaa10d76e682f2057cb5ce7b954346c2004c2d3c6aa8/statsbombpy-1.3.0-py3-none-any.whl\n",
      "Collecting joblib (from statsbombpy)\n",
      "\u001b[?25l  Downloading https://files.pythonhosted.org/packages/3e/d5/0163eb0cfa0b673aa4fe1cd3ea9d8a81ea0f32e50807b0c295871e4aab2e/joblib-1.1.0-py2.py3-none-any.whl (306kB)\n",
      "\u001b[K    100% |████████████████████████████████| 307kB 3.9MB/s ta 0:00:011\n",
      "\u001b[?25hCollecting requests (from statsbombpy)\n",
      "\u001b[?25l  Downloading https://files.pythonhosted.org/packages/2d/61/08076519c80041bc0ffa1a8af0cbd3bf3e2b62af10435d269a9d0f40564d/requests-2.27.1-py2.py3-none-any.whl (63kB)\n",
      "\u001b[K    100% |████████████████████████████████| 71kB 5.5MB/s ta 0:00:01\n",
      "\u001b[?25hCollecting inflect (from statsbombpy)\n",
      "  Downloading https://files.pythonhosted.org/packages/4f/a8/031641ad73a1bd1a9932261a6193864556172b333dde263fed8b5a0940cf/inflect-5.3.0-py3-none-any.whl\n",
      "Collecting nose2 (from statsbombpy)\n",
      "\u001b[?25l  Downloading https://files.pythonhosted.org/packages/95/cf/ea7c3991fbb76f55bc1110e0356ef8a29a8ca546e5899a529018c6715c03/nose2-0.10.0-py2.py3-none-any.whl (141kB)\n",
      "\u001b[K    100% |████████████████████████████████| 143kB 5.6MB/s ta 0:00:01\n",
      "\u001b[?25hCollecting pandas (from statsbombpy)\n",
      "\u001b[?25l  Downloading https://files.pythonhosted.org/packages/44/d9/fa9cb383b482b574e6926eabc437fe57b59908a7ed940612c8c308471872/pandas-1.3.5-cp37-cp37m-macosx_10_9_x86_64.whl (11.0MB)\n",
      "\u001b[K    100% |████████████████████████████████| 11.0MB 3.3MB/s eta 0:00:01\n",
      "\u001b[?25hCollecting requests-cache (from statsbombpy)\n",
      "\u001b[?25l  Downloading https://files.pythonhosted.org/packages/25/1f/785833faa0aeced7c4aa466967e7ce76cbab578c634eb8c924844b9b7961/requests_cache-0.9.0-py3-none-any.whl (46kB)\n",
      "\u001b[K    100% |████████████████████████████████| 51kB 5.1MB/s ta 0:00:01\n",
      "\u001b[?25hCollecting charset-normalizer~=2.0.0; python_version >= \"3\" (from requests->statsbombpy)\n",
      "  Downloading https://files.pythonhosted.org/packages/84/3e/1037abe6498e65d645ce7a22d3402605d49a3b2c7f20c3abb027760da4f0/charset_normalizer-2.0.10-py3-none-any.whl\n",
      "Collecting idna<4,>=2.5; python_version >= \"3\" (from requests->statsbombpy)\n",
      "\u001b[?25l  Downloading https://files.pythonhosted.org/packages/04/a2/d918dcd22354d8958fe113e1a3630137e0fc8b44859ade3063982eacd2a4/idna-3.3-py3-none-any.whl (61kB)\n",
      "\u001b[K    100% |████████████████████████████████| 61kB 8.8MB/s eta 0:00:01\n",
      "\u001b[?25hCollecting certifi>=2017.4.17 (from requests->statsbombpy)\n",
      "\u001b[?25l  Downloading https://files.pythonhosted.org/packages/37/45/946c02767aabb873146011e665728b680884cd8fe70dde973c640e45b775/certifi-2021.10.8-py2.py3-none-any.whl (149kB)\n",
      "\u001b[K    100% |████████████████████████████████| 153kB 11.7MB/s a 0:00:01\n",
      "\u001b[?25hCollecting urllib3<1.27,>=1.21.1 (from requests->statsbombpy)\n",
      "\u001b[?25l  Downloading https://files.pythonhosted.org/packages/af/f4/524415c0744552cce7d8bf3669af78e8a069514405ea4fcbd0cc44733744/urllib3-1.26.7-py2.py3-none-any.whl (138kB)\n",
      "\u001b[K    100% |████████████████████████████████| 143kB 6.5MB/s ta 0:00:01\n",
      "\u001b[?25hCollecting six>=1.7 (from nose2->statsbombpy)\n",
      "  Downloading https://files.pythonhosted.org/packages/d9/5a/e7c31adbe875f2abbb91bd84cf2dc52d792b5a01506781dbcf25c91daf11/six-1.16.0-py2.py3-none-any.whl\n",
      "Collecting coverage>=4.4.1 (from nose2->statsbombpy)\n",
      "\u001b[?25l  Downloading https://files.pythonhosted.org/packages/24/c0/8bf5b0419956049211dc1608fc4de8bf961172f5455780a530c658700c43/coverage-6.2-cp37-cp37m-macosx_10_9_x86_64.whl (179kB)\n",
      "\u001b[K    100% |████████████████████████████████| 184kB 9.4MB/s eta 0:00:01\n",
      "\u001b[?25hCollecting pytz>=2017.3 (from pandas->statsbombpy)\n",
      "\u001b[?25l  Downloading https://files.pythonhosted.org/packages/d3/e3/d9f046b5d1c94a3aeab15f1f867aa414f8ee9d196fae6865f1d6a0ee1a0b/pytz-2021.3-py2.py3-none-any.whl (503kB)\n",
      "\u001b[K    100% |████████████████████████████████| 512kB 4.9MB/s ta 0:00:011\n",
      "\u001b[?25hCollecting python-dateutil>=2.7.3 (from pandas->statsbombpy)\n",
      "\u001b[?25l  Downloading https://files.pythonhosted.org/packages/36/7a/87837f39d0296e723bb9b62bbb257d0355c7f6128853c78955f57342a56d/python_dateutil-2.8.2-py2.py3-none-any.whl (247kB)\n",
      "\u001b[K    100% |████████████████████████████████| 256kB 11.9MB/s a 0:00:011\n",
      "\u001b[?25hCollecting numpy>=1.17.3; platform_machine != \"aarch64\" and platform_machine != \"arm64\" and python_version < \"3.10\" (from pandas->statsbombpy)\n",
      "\u001b[?25l  Downloading https://files.pythonhosted.org/packages/09/8c/ae037b8643aaa405b666c167f48550c1ce6b7c589fe5540de6d83e5931ca/numpy-1.21.5-cp37-cp37m-macosx_10_9_x86_64.whl (16.9MB)\n",
      "\u001b[K    100% |████████████████████████████████| 16.9MB 1.7MB/s ta 0:00:011    81% |██████████████████████████      | 13.7MB 3.3MB/s eta 0:00:01\n"
     ]
    }
   ],
   "source": []
  },
  {
   "cell_type": "code",
   "execution_count": 2,
   "metadata": {},
   "outputs": [
    {
     "ename": "ModuleNotFoundError",
     "evalue": "No module named 'statsbombpy'",
     "output_type": "error",
     "traceback": [
      "\u001b[0;31m---------------------------------------------------------------------------\u001b[0m",
      "\u001b[0;31mModuleNotFoundError\u001b[0m                       Traceback (most recent call last)",
      "\u001b[0;32m<ipython-input-2-be1f091ff784>\u001b[0m in \u001b[0;36m<module>\u001b[0;34m\u001b[0m\n\u001b[1;32m      1\u001b[0m \u001b[0;32mimport\u001b[0m \u001b[0mpandas\u001b[0m \u001b[0;32mas\u001b[0m \u001b[0mpd\u001b[0m\u001b[0;34m\u001b[0m\u001b[0;34m\u001b[0m\u001b[0m\n\u001b[0;32m----> 2\u001b[0;31m \u001b[0;32mfrom\u001b[0m \u001b[0mstatsbombpy\u001b[0m \u001b[0;32mimport\u001b[0m \u001b[0msb\u001b[0m\u001b[0;34m\u001b[0m\u001b[0;34m\u001b[0m\u001b[0m\n\u001b[0m\u001b[1;32m      3\u001b[0m \u001b[0;34m\u001b[0m\u001b[0m\n\u001b[1;32m      4\u001b[0m \u001b[0msb\u001b[0m\u001b[0;34m.\u001b[0m\u001b[0mcompetition\u001b[0m\u001b[0;34m.\u001b[0m\u001b[0mhead\u001b[0m\u001b[0;34m(\u001b[0m\u001b[0;34m)\u001b[0m\u001b[0;34m\u001b[0m\u001b[0;34m\u001b[0m\u001b[0m\n",
      "\u001b[0;31mModuleNotFoundError\u001b[0m: No module named 'statsbombpy'"
     ]
    }
   ],
   "source": [
    "import pandas as pd\n",
    "from statsbombpy import sb\n",
    "\n",
    "sb.competition.head()"
   ]
  },
  {
   "cell_type": "code",
   "execution_count": null,
   "metadata": {},
   "outputs": [],
   "source": [
    "# Get the FIFA World Cup\n",
    "competition[competition.competition_name == 'FIFA World Cup']"
   ]
  },
  {
   "cell_type": "code",
   "execution_count": null,
   "metadata": {},
   "outputs": [],
   "source": [
    "import json\n",
    "\n",
    "with open('open-data/data/matches/43/3.json') as f:\n",
    "    data = json.load(f)\n",
    "\n",
    "data"
   ]
  },
  {
   "cell_type": "code",
   "execution_count": null,
   "metadata": {},
   "outputs": [],
   "source": [
    "with open('open-data/data/matches/43/3.json') as f:\n",
    "    data = json.load(f)\n",
    "    for i in data:\n",
    "        print('ID:', i['match_id'], i['home_team']['home_team_name'], i['home_score'], '-', i['away_score'], i['away_team']['away_team_name'])"
   ]
  },
  {
   "cell_type": "code",
   "execution_count": null,
   "metadata": {},
   "outputs": [],
   "source": [
    "with open('open-data/data/events/7567.json') as f:\n",
    "    korger = json.load(f)\n",
    "    \n",
    "korger"
   ]
  },
  {
   "cell_type": "code",
   "execution_count": null,
   "metadata": {},
   "outputs": [],
   "source": [
    "df = pd.json_normalize(korger, sep='_').assign(match_id=\"7567\")\n",
    "df.head()"
   ]
  },
  {
   "cell_type": "code",
   "execution_count": null,
   "metadata": {},
   "outputs": [],
   "source": [
    "shots = df[df.type_name == 'Shot'].set_index('id')\n",
    "shots.head()"
   ]
  },
  {
   "cell_type": "code",
   "execution_count": null,
   "metadata": {},
   "outputs": [],
   "source": [
    "import numpy as np\n",
    "import matplotlib.pyplot as plt\n",
    "from FCPython import createPitch\n",
    "\n",
    "pitch_width = 120\n",
    "pitch_height = 80\n",
    "\n",
    "fig, ax = createPitch(pitch_width, pitch_height, 'yards', 'gray')\n",
    "\n",
    "home_team = 'South Korea'\n",
    "away_team = 'Germany'\n",
    "\n",
    "for i, shot in shots.iterrows():\n",
    "    x = shot['location'][0]\n",
    "    y = shot['location'][1]\n",
    "    \n",
    "    goal = shot['shot_outcome_name']=='Goal'\n",
    "    team_name = shot['team_name']\n",
    "    \n",
    "    circle_size = 2\n",
    "    circle_size = np.sqrt(shot['shot_statsbomb_xg'] * 15)\n",
    "    \n",
    "    if team_name == home_team:\n",
    "        if goal:\n",
    "            shot_circle = plt.Circle((x, pitch_height-y), circle_size, color='red')\n",
    "            plt.text((x+1), pitch_height-y+1, shot['player_name'])\n",
    "        else:\n",
    "            shot_circle = plt.Circle((x, pitch_height-y), circle_size, color='red')\n",
    "            shot_circle.set_alpha(.2)\n",
    "    elif team_name == away_team:\n",
    "        if goal:\n",
    "            shot_circle = plt.Circle((pitch_width-x, y), circle_size, color='blue')\n",
    "            plt.text((pitch_width-x+1), y+1, shot['player_name'])\n",
    "        else:\n",
    "            shot_circle = plt.Circle((pitch_width-x, y), circle_size, color='blue')\n",
    "            shot_circle.set_alpha(.2)\n",
    "    \n",
    "    ax.add_patch(shot_circle)\n",
    "    \n",
    "plt.text(5, 75, away_team + ' shots')\n",
    "plt.text(80, 75, home_team + ' shots')\n",
    "\n",
    "plt.title('Germany vs South Korea at 2018 FIFA World Cup')\n",
    "\n",
    "fig.set_size_inches(10, 7)\n",
    "fig.savefig('korger_shots.png', dpi=300) \n",
    "\n",
    "plt.show()"
   ]
  },
  {
   "cell_type": "code",
   "execution_count": null,
   "metadata": {},
   "outputs": [],
   "source": [
    "import json\n",
    "import pandas as pd\n",
    "import matplotlib.pyplot as plt\n",
    "import requests\n",
    "from pandas import json_normalize\n",
    "import numpy as np\n",
    "from pitch import Pitch ##a helper function to quickly give us a pitch\n",
    "import warnings\n",
    "\n",
    "from pandas.core.common import SettingWithCopyWarning\n",
    "warnings.simplefilter(action=\"ignore\", category=SettingWithCopyWarning)\n"
   ]
  },
  {
   "cell_type": "code",
   "execution_count": null,
   "metadata": {},
   "outputs": [],
   "source": [
    "match_id = \"8658\"\n",
    "side = \"away\"\n",
    "color = \"blue\"\n",
    "min_pass_count = 2 ##minimum number of passes for a link to be plotted\n",
    "\n",
    "fig, ax = plt.subplots()\n",
    "ax = Pitch(ax)\n"
   ]
  },
  {
   "cell_type": "code",
   "execution_count": null,
   "metadata": {},
   "outputs": [],
   "source": [
    "class Player:\n",
    "    def __init__(self, player, df):\n",
    "        self.id = player[\"player\"][\"id\"]\n",
    "        self.name = player[\"player\"][\"name\"]\n",
    "        self.average_position(df)\n",
    "\n",
    "    def average_position(self, df):\n",
    "\n",
    "        player_pass_df = df.query(\"(type_name == 'Pass') & (pass_type_name not in ['Free Kick', 'Corner', 'Throw-in', 'Kick Off']) & (player_id == @self.id) & (pass_outcome_name not in ['Unknown','Out','Pass Offside','Injury Clearance', 'Incomplete'])\")\n",
    "        self.x, self.y = np.mean(player_pass_df['location'].tolist(), axis=0)\n",
    "\n",
    "        self.n_passes_completed = len(player_pass_df)\n"
   ]
  },
  {
   "cell_type": "code",
   "execution_count": null,
   "metadata": {},
   "outputs": [],
   "source": [
    "def load_file(match_id, getter=\"remote\", path = None):\n",
    "    \"\"\" \"\"\"\n",
    "\n",
    "    if getter == \"local\":\n",
    "        with open(f\"{path}/{match_id}.json\", \"r\", encoding=\"utf-8\") as f:\n",
    "            match_dict = json.load(f)\n",
    "            df = json_normalize(match_dict, sep=\"_\")\n",
    "            df = df.query(\"location == location\")\n",
    "            df[['x','y']] = pd.DataFrame(df.location.values.tolist(), index= df.index)\n",
    "            df['y'] = 80 - df['y'] ##Reversing the y-axis co-ordinates because Statsbomb use this weird co-ordinate system\n",
    "            df['location'] = df[['x', 'y']].apply(list, axis=1)\n",
    "\n",
    "        return match_dict, df\n",
    "\n",
    "    elif getter == \"remote\":\n",
    "        resp = requests.get(f\"https://raw.githubusercontent.com/statsbomb/open-data/master/data/events/{match_id}.json\")\n",
    "\n",
    "        match_dict = json.loads(resp.text)\n",
    "        df = json_normalize(match_dict, sep=\"_\")\n",
    "        df = df.query(\"location == location\")\n",
    "        df[['x','y']] = pd.DataFrame(df.location.values.tolist(), index= df.index)\n",
    "        df['y'] = 80 - df['y'] ##Reversing the y-axis co-ordinates because Statsbomb use this reversed co-ordinate system\n",
    "        df['location'] = df[['x', 'y']].apply(list, axis=1)\n",
    "\n",
    "        return match_dict, df"
   ]
  },
  {
   "cell_type": "code",
   "execution_count": null,
   "metadata": {},
   "outputs": [],
   "source": [
    "def get_starters(match_dict, side=\"home\"):\n",
    "    \"\"\" \"\"\"\n",
    "    lineups = match_dict[0][\"tactics\"][\"lineup\"] if side == \"home\" else match_dict[1][\"tactics\"][\"lineup\"]\n",
    "    return lineups\n"
   ]
  },
  {
   "cell_type": "code",
   "execution_count": null,
   "metadata": {},
   "outputs": [],
   "source": [
    "side_dict = {\"home\": match_dict[0][\"team\"][\"name\"],\n",
    "             \"away\": match_dict[1][\"team\"][\"name\"] }\n",
    "\n",
    "print(side_dict)\n"
   ]
  }
 ],
 "metadata": {
  "kernelspec": {
   "display_name": "Python 3",
   "language": "python",
   "name": "python3"
  },
  "language_info": {
   "codemirror_mode": {
    "name": "ipython",
    "version": 3
   },
   "file_extension": ".py",
   "mimetype": "text/x-python",
   "name": "python",
   "nbconvert_exporter": "python",
   "pygments_lexer": "ipython3",
   "version": "3.7.2"
  }
 },
 "nbformat": 4,
 "nbformat_minor": 2
}
