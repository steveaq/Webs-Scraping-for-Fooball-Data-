{
 "cells": [
  {
   "cell_type": "markdown",
   "metadata": {},
   "source": [
    "## Intro to using beautiful soup to scrape web football data"
   ]
  },
  {
   "cell_type": "markdown",
   "metadata": {},
   "source": [
    "### Install Beautiful Soup"
   ]
  },
  {
   "cell_type": "code",
   "execution_count": null,
   "metadata": {},
   "outputs": [],
   "source": [
    "# pip install beautifulsoup4\n"
   ]
  },
  {
   "cell_type": "markdown",
   "metadata": {},
   "source": [
    "## We will now want to import all the necessary packages require for scraping and analysis:"
   ]
  },
  {
   "cell_type": "code",
   "execution_count": null,
   "metadata": {},
   "outputs": [],
   "source": [
    "import requests\n",
    "import pandas as pd\n",
    "from bs4 import BeautifulSoup\n",
    "# import klib as kb\n",
    "import seaborn as sb\n",
    "import matplotlib.pyplot as plt\n",
    "# import wes\n",
    "import matplotlib as mpl\n",
    "import warnings\n",
    "import numpy as np\n",
    "from math import pi\n",
    "from urllib.request import urlopen\n",
    "from matplotlib.transforms import Affine2D\n",
    "import mpl_toolkits.axisartist.floating_axes as floating_axes\n",
    "from sklearn.preprocessing import StandardScaler\n"
   ]
  },
  {
   "cell_type": "code",
   "execution_count": null,
   "metadata": {},
   "outputs": [],
   "source": [
    "top_5_league_stats_urls = ['https://fbref.com/en/comps/9/Premier-League-Stats', 'https://fbref.com/en/comps/11/Serie-A-Stats', 'https://fbref.com/en/comps/13/Ligue-1-Stats', 'https://fbref.com/en/comps/12/La-Liga-Stats', 'https://fbref.com/en/comps/20/Bundesliga-Stats' ]"
   ]
  },
  {
   "cell_type": "code",
   "execution_count": null,
   "metadata": {},
   "outputs": [],
   "source": [
    "def generate_big_database(top_5_league_stats_urls):\n",
    "    list_of_dfs = []   \n",
    "    for url in top_5_league_stats_urls:\n",
    "        team_urls = get_team_urls(url)  \n",
    "        full_urls = list(team_urls.urls.unique())\n",
    "        Player_db = general_url_database(full_urls)\n",
    "        # Player_db['Age'] = Player_db.apply(lambda x: years_converter(x['Age']), axis=1)\n",
    "        Player_db = Player_db.drop(columns=['matches'])\n",
    "        Player_db['scouting_url'] = Player_db.apply(lambda x: get_360_scouting_report(x['urls']), axis=1)\n",
    "        list_of_dfs.append(Player_db)\n",
    "    dfs = pd.concat(list_of_dfs)\n",
    "    return dfs"
   ]
  },
  {
   "cell_type": "code",
   "execution_count": null,
   "metadata": {},
   "outputs": [],
   "source": [
    "EU_TOP_5_DB = generate_big_database(top_5_league_stats_urls)"
   ]
  },
  {
   "cell_type": "code",
   "execution_count": null,
   "metadata": {},
   "outputs": [],
   "source": [
    "\n",
    "# df = df[[\"Player\", \"Pos\", \"90s\", \"Carries_1/3\", \"1/3\"]]\n",
    "# mf_positions = ['MF']\n",
    "# min_90s = 8\n",
    "# df = df[(df[\"90s\"]>min_90s) & (df[\"Pos\"].isin(mf_positions))].reset_index(drop=True)\n",
    "# df[[\"Carries_1/3\", \"1/3\"]] = df[[\"Carries_1/3\", \"1/3\"]].div(df[\"90s\"], axis=0)\n",
    "df = df \n",
    "xs = StandardScaler().fit_transform(df[\"Carries_1/3\"].values.reshape(-1, 1))\n",
    "ys = StandardScaler().fit_transform(df[\"1/3\"].values.reshape(-1, 1))\n",
    "\n",
    "\n",
    "fig = plt.figure(figsize=(8,8))\n",
    "\n",
    "plot_extents = -2.4, 5.6, -2.4, 5.6\n",
    "transform = Affine2D().rotate_deg(45)\n",
    "helper = floating_axes.GridHelperCurveLinear(transform, plot_extents)\n",
    "ax = floating_axes.FloatingSubplot(fig, 111, grid_helper=helper)\n",
    "ax.grid(alpha=0.5, linestyle=\"-.\")\n",
    "fig.add_subplot(ax)\n",
    "\n",
    "ax.scatter(xs, ys, ec='k', alpha=.5, s=50, marker=\"h\")\n",
    "ax.set_aspect(1)\n",
    "\n",
    "###highlight top percentile players\n",
    "player_names = list(set(df.sort_values(\"Carries_1/3\")[\"Player\"].tail(7).tolist() + df.sort_values(\"1/3\")[\"Player\"].tail(7).tolist()))\n",
    "\n",
    "sel_df = df.query(\"Player == @player_names\")\n",
    "sel_idx = sel_df.index; player_names = sel_df.Player.tolist()\n",
    "sel_xs = xs[sel_idx]; sel_ys = ys[sel_idx]\n",
    "\n",
    "ax.scatter(sel_xs, sel_ys, color=\"dodgerblue\", ec=\"k\", alpha=.5, s=70, marker=\"h\")\n",
    "for name, x, y in zip(player_names, sel_xs, sel_ys):\n",
    "    ax.text(x, y, name.split(\" \")[-1], fontsize=8, fontstyle=\"italic\")\n",
    "ax.axis[:].major_ticklabels.set_alpha(0)\n",
    "\n",
    "ax.set(xlabel=\"Carries into Final Third\", ylabel=\"Passes into Final Third\")\n",
    "fig.text(x=0.5, y=0.95, s=\"Ball Progression Profile\", fontsize=18, fontweight=\"light\", ha=\"center\")\n",
    "fig.text(x=0.5, y=0.9, s= f\"Europe's Top 5 Leagues | Position: Midfielders | Minimum minutes: {min_90s*90}\", \n",
    "    fontsize=12, fontweight=\"light\", ha=\"center\")\n",
    "\n",
    "fig.savefig(\"diamond_plot.png\", dpi=180)\n",
    "plt.show()"
   ]
  }
 ],
 "metadata": {
  "kernelspec": {
   "display_name": "Python 3",
   "language": "python",
   "name": "python3"
  },
  "language_info": {
   "codemirror_mode": {
    "name": "ipython",
    "version": 3
   },
   "file_extension": ".py",
   "mimetype": "text/x-python",
   "name": "python",
   "nbconvert_exporter": "python",
   "pygments_lexer": "ipython3",
   "version": "3.7.1"
  }
 },
 "nbformat": 4,
 "nbformat_minor": 2
}
